{
 "cells": [
  {
   "cell_type": "code",
   "execution_count": 6,
   "metadata": {},
   "outputs": [],
   "source": [
    "import numpy as np\n",
    "import pandas as pd\n",
    "import matplotlib.pyplot as plt\n",
    "from scipy.optimize import minimize\n",
    "import netCDF4 as nc\n",
    "from scipy.integrate import solve_ivp\n",
    "import math\n",
    "import matplotlib.animation as animation"
   ]
  },
  {
   "cell_type": "code",
   "execution_count": 7,
   "metadata": {},
   "outputs": [],
   "source": [
    "def fill_nan_values(data):\n",
    "    name = data.name\n",
    "    index = data.index\n",
    "    data_numpy = data.to_numpy()\n",
    "    sorrounding_average = (data_numpy[2:] + data_numpy[:-2])/2\n",
    "    for it, point in enumerate(data_numpy):\n",
    "        if (math.isnan(point)):\n",
    "            data_numpy[it] = sorrounding_average[it-1]\n",
    "    data_new = pd.DataFrame(data=data_numpy, columns=[name], index=index)\n",
    "    return data_new\n",
    "\n",
    "\n",
    "def get_yearly_avg_lat_data(filename='Land_and_Ocean_LatLong1.nc', T_0='1900', T_star='2000'):\n",
    "    \"\"\"\n",
    "    Get the yearly avg latitude data for temperature from the given filename, saves T_0 and T_star,\n",
    "    which are files that will be used in both the budyko model analysis and the optimal control\n",
    "    problem on the budyko-sellers model\n",
    "    \n",
    "    This code only looks at the top half of the globe to fit with the assumption that the earth temperature\n",
    "    profile is symmetric. This is obviously not true, but for the massive system that is the earth, it is\n",
    "    a reasonable assumption.\n",
    "    \n",
    "    Data is obtained from http://berkeleyearth.org/data/\n",
    "    \"\"\"\n",
    "    print(\"Getting data from file...\")\n",
    "    data = nc.Dataset(filename)\n",
    "    #get the latitude values\n",
    "    lat_vals = np.array(data['latitude'][:])\n",
    "    #get the yearly values\n",
    "    time_vals = np.array(data['time'][:])\n",
    "    time_ints = time_vals.astype(int)\n",
    "    temp_array = np.array(data['temperature'][:])\n",
    "    mask_semi_sphere = lat_vals > 0\n",
    "    lat_vals_top = lat_vals[mask_semi_sphere]\n",
    "    temp_array_top = temp_array[:,mask_semi_sphere,:]\n",
    "    normal = np.array(data['climatology'][:])\n",
    "    normal_top = normal[:,mask_semi_sphere,:]\n",
    "    #get the year average\n",
    "    print(\"Averaging over the entire year...\")\n",
    "    unique_years = np.unique(time_ints)\n",
    "    m,n,o = np.shape(temp_array_top)\n",
    "    temp_array_new = np.zeros((len(unique_years), n, o))\n",
    "    #create the groupby and average over the years\n",
    "    for it, year in enumerate(unique_years):\n",
    "        mask_year = time_ints == year\n",
    "        new_year = temp_array_top[mask_year,:,:]+normal_top\n",
    "        mean_year = np.mean(new_year, axis=0)\n",
    "        temp_array_new[it,:,:] = mean_year\n",
    "    #now average the temp array over the latitudinal values\n",
    "    print(\"Saving Data...\")\n",
    "    temp_array_final = np.mean(temp_array_new,axis=2)\n",
    "    #create the dataframe\n",
    "    lat_vals_top = np.sin(np.deg2rad(lat_vals_top))\n",
    "    all_time_data_frame = pd.DataFrame(data=temp_array_final.T,index=lat_vals_top,columns=unique_years)\n",
    "    #save the results to data frames using the given method parameters\n",
    "    temp_T_star = fill_nan_values(all_time_data_frame[int(T_star)])\n",
    "    temp_T_0 = fill_nan_values(all_time_data_frame[int(T_0)])\n",
    "    #save the dataframes\n",
    "    temp_T_star.to_csv('{}_mean_temp.csv'.format(T_star))\n",
    "    temp_T_0.to_csv('{}_mean_temp.csv'.format(T_0))\n",
    "    all_time_data_frame.to_csv('1850-2020_mean_temp.csv')\n",
    "    print(\"Complete!\")"
   ]
  },
  {
   "cell_type": "code",
   "execution_count": 8,
   "metadata": {},
   "outputs": [
    {
     "name": "stdout",
     "output_type": "stream",
     "text": [
      "Getting data from file...\n"
     ]
    },
    {
     "name": "stderr",
     "output_type": "stream",
     "text": [
      "<ipython-input-7-ece6fdbb6f35>:32: UserWarning: WARNING: valid_min not used since it\n",
      "cannot be safely cast to variable data type\n",
      "  temp_array = np.array(data['temperature'][:])\n",
      "<ipython-input-7-ece6fdbb6f35>:32: UserWarning: WARNING: valid_max not used since it\n",
      "cannot be safely cast to variable data type\n",
      "  temp_array = np.array(data['temperature'][:])\n",
      "<ipython-input-7-ece6fdbb6f35>:36: UserWarning: WARNING: valid_min not used since it\n",
      "cannot be safely cast to variable data type\n",
      "  normal = np.array(data['climatology'][:])\n",
      "<ipython-input-7-ece6fdbb6f35>:36: UserWarning: WARNING: valid_max not used since it\n",
      "cannot be safely cast to variable data type\n",
      "  normal = np.array(data['climatology'][:])\n"
     ]
    },
    {
     "name": "stdout",
     "output_type": "stream",
     "text": [
      "Averaging over the entire year...\n",
      "Saving Data...\n",
      "Complete!\n"
     ]
    }
   ],
   "source": [
    "get_yearly_avg_lat_data()"
   ]
  },
  {
   "cell_type": "code",
   "execution_count": null,
   "metadata": {},
   "outputs": [],
   "source": []
  }
 ],
 "metadata": {
  "kernelspec": {
   "display_name": "Python 3",
   "language": "python",
   "name": "python3"
  },
  "language_info": {
   "codemirror_mode": {
    "name": "ipython",
    "version": 3
   },
   "file_extension": ".py",
   "mimetype": "text/x-python",
   "name": "python",
   "nbconvert_exporter": "python",
   "pygments_lexer": "ipython3",
   "version": "3.8.3"
  }
 },
 "nbformat": 4,
 "nbformat_minor": 4
}
