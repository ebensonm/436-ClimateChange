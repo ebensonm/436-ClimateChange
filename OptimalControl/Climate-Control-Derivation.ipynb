{
 "cells": [
  {
   "cell_type": "code",
   "execution_count": 25,
   "metadata": {},
   "outputs": [],
   "source": [
    "import numpy as np\n",
    "import sympy as sp\n",
    "import matplotlib.pyplot as plt"
   ]
  },
  {
   "cell_type": "markdown",
   "metadata": {},
   "source": [
    "#### Define the constant symbols"
   ]
  },
  {
   "cell_type": "code",
   "execution_count": 26,
   "metadata": {},
   "outputs": [],
   "source": [
    "R, Q, eta, A, B, C = sp.symbols('R, Q, eta, A, B, C')\n",
    "T_c, k, a_1, a_2 = sp.symbols('T_c, k, a_1, a_2')\n",
    "M, y_0 = sp.symbols('M, y_0')\n",
    "T_0, T_1, T_2 = sp.symbols('T_0, T_1, T_2')\n",
    "T0, T1, T2 = sp.symbols('T0, T1, T2')\n",
    "s0,s1,s2 = sp.symbols('s0, s1, s2')\n",
    "a0,a1,a2 = sp.symbols('a0, a1, a2')\n",
    "p0,p1,p2 = sp.symbols('p0, p1, p2')\n",
    "T_eta, T_c, eps, gamma, beta = sp.symbols('T_eta, T_c, eps, gamma, beta')"
   ]
  },
  {
   "cell_type": "markdown",
   "metadata": {},
   "source": [
    "#### Define T_der,  T_0,  and d_eta"
   ]
  },
  {
   "cell_type": "code",
   "execution_count": 27,
   "metadata": {},
   "outputs": [],
   "source": [
    "a = [a0,a1,a2]\n",
    "s = list()\n",
    "T = [T_0, T_1, T_2]\n",
    "s = [s0, s1, s2]\n",
    "a = [a0, a1, a2]\n",
    "Tstar = [T0, T1, T2]\n",
    "T_der = list()\n",
    "y = np.linspace(0,1,len(T))\n",
    "for i in range(len(y)):\n",
    "    #a - iceline\n",
    "    #a.append((a_1 + a_2)/2 + (a_2-a_1)/2*sp.tanh(M*(y[i] - eta)))\n",
    "    #s - temperature spread\n",
    "    #T_der\n",
    "    Tdereq = 1/R*(Q*s[i]*(1-a[i])-A-B*T[i]-C*(T[i]-(sp.Add(*T)/len(T))))\n",
    "    T_der.append(Tdereq)\n",
    "eta_der = eps*(T_eta - T_c)"
   ]
  },
  {
   "cell_type": "markdown",
   "metadata": {},
   "source": [
    "#### The lagrangian"
   ]
  },
  {
   "cell_type": "code",
   "execution_count": 28,
   "metadata": {},
   "outputs": [],
   "source": [
    "L = None\n",
    "for i in range(len(T)):\n",
    "    if L is None:\n",
    "        L = gamma*(T[i]-Tstar[i])**2 + beta*T_der[i]**2\n",
    "    else: \n",
    "        L += gamma*(T[i]-Tstar[i])**2 + beta*T_der[i]**2"
   ]
  },
  {
   "cell_type": "markdown",
   "metadata": {},
   "source": [
    "#### The Hamiltonian"
   ]
  },
  {
   "cell_type": "code",
   "execution_count": 33,
   "metadata": {},
   "outputs": [
    {
     "name": "stdout",
     "output_type": "stream",
     "text": [
      "-gamma*(-T0 + T_0)**2 - gamma*(-T1 + T_1)**2 - gamma*(-T2 + T_2)**2 + p0*(-A - B*T_0 - C*(2*T_0/3 - T_1/3 - T_2/3) + Q*s0*(1 - a0))/R + p1*(-A - B*T_1 - C*(-T_0/3 + 2*T_1/3 - T_2/3) + Q*s1*(1 - a1))/R + p2*(-A - B*T_2 - C*(-T_0/3 - T_1/3 + 2*T_2/3) + Q*s2*(1 - a2))/R - beta*(-A - B*T_0 - C*(2*T_0/3 - T_1/3 - T_2/3) + Q*s0*(1 - a0))**2/R**2 - beta*(-A - B*T_1 - C*(-T_0/3 + 2*T_1/3 - T_2/3) + Q*s1*(1 - a1))**2/R**2 - beta*(-A - B*T_2 - C*(-T_0/3 - T_1/3 + 2*T_2/3) + Q*s2*(1 - a2))**2/R**2\n"
     ]
    }
   ],
   "source": [
    "H = None\n",
    "p = [p0,p1,p2]\n",
    "for i in range(len(T)):\n",
    "    if H is None:\n",
    "        H = p[i]*T_der[i]-L\n",
    "    else:\n",
    "        H += p[i]*T_der[i]\n",
    "print(H)"
   ]
  },
  {
   "cell_type": "markdown",
   "metadata": {},
   "source": [
    "#### Hamiltonian Operations"
   ]
  },
  {
   "cell_type": "code",
   "execution_count": 34,
   "metadata": {},
   "outputs": [
    {
     "name": "stdout",
     "output_type": "stream",
     "text": [
      "(-18*R**2*gamma*(T0 - T_0) + 3*R*(-C*p1 - C*p2 + p0*(3*B + 2*C)) + 2*beta*(-C*(3*A + 3*B*T_1 - C*(T_0 - 2*T_1 + T_2) + 3*Q*s1*(a1 - 1)) - C*(3*A + 3*B*T_2 - C*(T_0 + T_1 - 2*T_2) + 3*Q*s2*(a2 - 1)) + (3*B + 2*C)*(3*A + 3*B*T_0 - C*(-2*T_0 + T_1 + T_2) + 3*Q*s0*(a0 - 1))))/(9*R**2)\n"
     ]
    }
   ],
   "source": [
    "diff_T_i = -sp.diff(H,T_0)\n",
    "print(sp.simplify(diff_T_i))"
   ]
  },
  {
   "cell_type": "code",
   "execution_count": null,
   "metadata": {},
   "outputs": [],
   "source": []
  }
 ],
 "metadata": {
  "kernelspec": {
   "display_name": "Python 3",
   "language": "python",
   "name": "python3"
  },
  "language_info": {
   "codemirror_mode": {
    "name": "ipython",
    "version": 3
   },
   "file_extension": ".py",
   "mimetype": "text/x-python",
   "name": "python",
   "nbconvert_exporter": "python",
   "pygments_lexer": "ipython3",
   "version": "3.8.3"
  }
 },
 "nbformat": 4,
 "nbformat_minor": 4
}
