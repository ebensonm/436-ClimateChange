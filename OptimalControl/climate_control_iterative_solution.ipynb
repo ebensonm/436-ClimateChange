{
 "cells": [
  {
   "cell_type": "code",
   "execution_count": 114,
   "metadata": {},
   "outputs": [],
   "source": [
    "import numpy as np\n",
    "import matplotlib.pyplot as plt\n",
    "import pandas as pd\n",
    "from functools import partial\n",
    "import matplotlib.animation as animation\n",
    "from tqdm.notebook import tqdm"
   ]
  },
  {
   "cell_type": "markdown",
   "metadata": {},
   "source": [
    "### HIV Lab Useful Code"
   ]
  },
  {
   "cell_type": "code",
   "execution_count": 115,
   "metadata": {},
   "outputs": [],
   "source": [
    "#Code from RK4 Lab with minor edits\n",
    "def initialize_all(y0, t0, t, n):\n",
    "    \"\"\" An initialization routine for the different ODE solving\n",
    "    methods in the lab. This initializes Y, T, and h. \"\"\"\n",
    "    if isinstance(y0, np.ndarray):\n",
    "        Y = np.empty((n, y0.size)).squeeze()\n",
    "    else:\n",
    "        Y = np.empty(n)\n",
    "    \n",
    "    Y[0] = y0\n",
    "    T = np.linspace(t0, t, n)\n",
    "    h = float(t - t0) / (n - 1)\n",
    "    return Y, T, h\n",
    "\n",
    "def RK4(f, y0, t0, t, n):\n",
    "    \"\"\" Use the RK4 method to compute an approximate solution\n",
    "    to the ODE y' = f(t, y) at n equispaced parameter values from t0 to t\n",
    "    with initial conditions y(t0) = y0.\n",
    "    \n",
    "    y0 is assumed to be either a constant or a one-dimensional numpy array.\n",
    "    t and t0 are assumed to be constants.\n",
    "    f is assumed to accept three arguments.\n",
    "    The first is a constant giving the value of t.\n",
    "    The second is a one-dimensional numpy array of the same size as y.\n",
    "    The third is an index to the other arrays.\n",
    "    \n",
    "    This function returns an array Y of shape (n,) if\n",
    "    y is a constant or an array of size 1.\n",
    "    It returns an array of shape (n, y.size) otherwise.\n",
    "    In either case, Y[i] is the approximate value of y at\n",
    "    the i'th value of np.linspace(t0, t, n).\n",
    "    \"\"\"\n",
    "    Y,T,h = initialize_all(y0,t0,t,n)\n",
    "    for i in range(n-1):\n",
    "        K1 = f(T[i],Y[i],i)\n",
    "        K2 = f(T[i]+h/2.,Y[i]+h/2.*K1,i)\n",
    "        K3 = f(T[i]+h/2.,Y[i]+h/2.*K2,i)\n",
    "        K4 = f(T[i+1],Y[i]+h*K3,i)\n",
    "        Y[i+1] = Y[i] + h/6.*(K1+2*K2 +2*K3+K4)\n",
    "    return Y"
   ]
  },
  {
   "cell_type": "markdown",
   "metadata": {},
   "source": [
    "### Data Engineering"
   ]
  },
  {
   "cell_type": "code",
   "execution_count": 116,
   "metadata": {},
   "outputs": [],
   "source": [
    "def get_from_csv(filename):\n",
    "    data = pd.read_csv(filename,index_col=0)\n",
    "    return np.ravel(data.to_numpy()), data.index.to_numpy()"
   ]
  },
  {
   "cell_type": "code",
   "execution_count": 117,
   "metadata": {},
   "outputs": [],
   "source": [
    "#get the data from the prescribed location\n",
    "T_star, y_star = get_from_csv('../Data/1950_mean_temp.csv')\n",
    "T_star = T_star - 1.0\n",
    "T_0, y_0 = get_from_csv('../Data/2020_mean_temp.csv')\n",
    "assert np.allclose(y_star,y_0)"
   ]
  },
  {
   "cell_type": "markdown",
   "metadata": {},
   "source": [
    "### Define Global Constants and Functions"
   ]
  },
  {
   "cell_type": "code",
   "execution_count": 118,
   "metadata": {},
   "outputs": [],
   "source": [
    "def gen_a_fun(a_1,a_2,y_vals,M=5):\n",
    "    \"\"\"Generate the albedo function given the constants\n",
    "    \"\"\"\n",
    "    def a(eta):\n",
    "        one = (a_1+a_2)/2\n",
    "        two = ((a_2-a_1)/2)*np.tanh(M*(y_vals-eta))\n",
    "        return one+two\n",
    "    def d_a(eta):\n",
    "        return -1*(((a_2-a_1)*M)/2)*np.square(1/np.cosh(M*(y_vals-eta)))\n",
    "    return a, d_a\n",
    "\n",
    "def s(y):    \n",
    "    \"\"\"the s function that siginifies spreading of solar\n",
    "    radiation/heat across the surface\n",
    "    \"\"\"\n",
    "    return 1 - 0.241*(3*np.square(y)-1)\n",
    "\n",
    "def T_bar(T):\n",
    "    \"\"\"\n",
    "    Global mean temperature computation\n",
    "    \"\"\"\n",
    "    if (len(T.shape) == 1):\n",
    "        return np.mean(T)\n",
    "    else:\n",
    "        return np.mean(T,axis=1)\n",
    "    \n",
    "def T_prime(eta,T, A):\n",
    "    \"\"\"\n",
    "    The T_prime global equation\n",
    "    \"\"\"\n",
    "    in_1 = Q*S_vec*(1-a(eta))\n",
    "    in_2 = A+B*T\n",
    "    in_3 = C*(T_bar(T)-T)\n",
    "    return 1/R*(in_1 - in_2 + in_3)\n",
    "\n",
    "def T_eta(eta,T):\n",
    "    \"\"\"\n",
    "    For now just use the critical temperature for this condition\n",
    "    \"\"\"\n",
    "    #get the masked y_values\n",
    "    mask_y = y_star > eta\n",
    "    y_comp = y_star[mask_y]\n",
    "    len_add = len(y_star) - len(y_comp)\n",
    "    #do the case where eta is at the poll\n",
    "    if (len(y_comp) == 0):\n",
    "        return T[-1], len(T)-1\n",
    "    #do the case where eta is at the equator\n",
    "    elif (len(y_comp) == len(T)):\n",
    "        return T[0], 0\n",
    "    else:\n",
    "        k = np.argmin(y_comp-eta) + len_add\n",
    "        return (T[k]+T[k-1])/2, k\n",
    "    \n",
    "def T_eps_delt(T,k):\n",
    "    \"\"\"\n",
    "    Returns the derivative with respect to T_i of T_eta\n",
    "    \"\"\"\n",
    "    der = list()\n",
    "    #the outlier cases\n",
    "    if (k == len(T)-1):\n",
    "        der = [0 for i in range(len(T))]\n",
    "        der[-1] = 1\n",
    "        return np.asarray(der)\n",
    "    if (k == 0):\n",
    "        der = [0 for i in range(len(T))]\n",
    "        der[0] = 1 \n",
    "        return np.asarray(der)\n",
    "    #the rest of the cases\n",
    "    for i in range(len(T)):\n",
    "        if (k == i or k-1 == i):\n",
    "            der.append(1/2)\n",
    "        else:\n",
    "            der.append(0)\n",
    "            \n",
    "    return np.asarray(der)"
   ]
  },
  {
   "cell_type": "code",
   "execution_count": 119,
   "metadata": {},
   "outputs": [],
   "source": [
    "#define the global constants\n",
    "N = len(y_star)\n",
    "n=2000\n",
    "t_f = 10\n",
    "time = np.linspace(0,t_f,n)\n",
    "a_2 = 0.62\n",
    "a_1 = 0.32\n",
    "A_0 = 175\n",
    "eta_0 = 0.9\n",
    "A_max = 300\n",
    "A_min = 100\n",
    "beta = 1.0\n",
    "gamma = 0.1\n",
    "B = 1.9\n",
    "R = 12.6\n",
    "C = 1.6*B\n",
    "epsilon = 0.0005\n",
    "Q = 343\n",
    "T_c = -10\n",
    "#vector to be held constant\n",
    "S_vec = s(y_star)\n",
    "#function dependent on the eta value\n",
    "a, d_a = gen_a_fun(a_1,a_2,y_star)\n",
    "state0 = np.concatenate([T_0, np.array([eta_0])])\n",
    "costate0 = np.zeros_like(state0)"
   ]
  },
  {
   "cell_type": "code",
   "execution_count": 120,
   "metadata": {},
   "outputs": [
    {
     "data": {
      "image/png": "[encoded data removed]",
      "text/plain": [
       "<Figure size 720x504 with 1 Axes>"
      ]
     },
     "metadata": {
      "needs_background": "light"
     },
     "output_type": "display_data"
    },
    {
     "data": {
      "image/png": "[encoded data removed]",
      "text/plain": [
       "<Figure size 720x504 with 1 Axes>"
      ]
     },
     "metadata": {
      "needs_background": "light"
     },
     "output_type": "display_data"
    }
   ],
   "source": [
    "#plot the starting temperature profile\n",
    "fig,ax = plt.subplots(figsize=(10,7))\n",
    "ax.plot(y_star, T_0)\n",
    "ax.set_title(\"Temperature Starting Profile\", fontsize=16)\n",
    "ax.set_xlabel(\"Location sin(latitude)\", fontsize=16)\n",
    "ax.set_ylabel(\"Temperature (C)\", fontsize=16)\n",
    "fig.savefig('../Data/OptimalControl/starting_profile.png')\n",
    "#plot the optimal temperature profile\n",
    "fig,ax = plt.subplots(figsize=(10,7))\n",
    "ax.plot(y_star, T_star)\n",
    "ax.set_title(\"Optimal Temperature Profile\", fontsize=16)\n",
    "ax.set_xlabel(\"Location sin(latitude)\", fontsize=16)\n",
    "ax.set_ylabel(\"Temperature (C)\", fontsize=16)\n",
    "fig.savefig('../Data/OptimalControl/optimal_profile.png')"
   ]
  },
  {
   "cell_type": "markdown",
   "metadata": {},
   "source": [
    "### Solution Computation"
   ]
  },
  {
   "cell_type": "code",
   "execution_count": 121,
   "metadata": {},
   "outputs": [],
   "source": [
    "def state_equations(t,y,i,A=None):\n",
    "    \"\"\"\n",
    "    Define the state equations for the Budyko Sellers optimal control\n",
    "    problem defined in the project pdf.\n",
    "    \n",
    "    y is the current states (given by bold{T} in the pdf)\n",
    "    i is index for the global control variable A\n",
    "    t is the time step\n",
    "    \"\"\"\n",
    "    eta = y[-1]\n",
    "    T = y[:-1]\n",
    "    Teta, k = T_eta(eta,T)\n",
    "    y_new = np.zeros_like(y)\n",
    "    y_new[:-1] = T_prime(eta,T,A[i])\n",
    "    y_new[-1] = epsilon*(Teta - T_c)\n",
    "    return y_new\n",
    "    \n",
    "def costate_equations(t,y,i,state=None,A=None,n=None,gamma=gamma):\n",
    "    \"\"\"\n",
    "    Define the costate equations for the Budyko Sellers optimal control\n",
    "    problem defined in the project pdf.\n",
    "    \n",
    "    y is the current costates (given by bold{p} in the pdf)\n",
    "    i is index for the global control variable A\n",
    "    t is the time step\n",
    "    \"\"\"\n",
    "    j = n-1-i\n",
    "    eta = state[j,-1]\n",
    "    T = state[j,:-1]\n",
    "    Teta,k = T_eta(eta,T)\n",
    "    TEpsDelt = T_eps_delt(T,k)\n",
    "    y_new = np.zeros_like(y)\n",
    "    T_pri = T_prime(eta,T,A[j])\n",
    "    part_1 = (B+C)*(y[:-1] - 2*beta*T_pri)\n",
    "    part_2 = np.mean(C*(2*beta*T_pri - y[:-1]))\n",
    "    y_new[:-1] = -(1/R*(part_1+part_2)-y[-1]*epsilon*TEpsDelt)\n",
    "    y_new[-1] = -Q/R*np.sum(d_a(eta)*S_vec*(y[:-1]-2*beta*T_pri))\n",
    "    return y_new"
   ]
  },
  {
   "cell_type": "code",
   "execution_count": 124,
   "metadata": {},
   "outputs": [],
   "source": [
    "def run_solution_method(tol=1e-3, tol_2=1e-5, maxiter=1000, n=10, t_f=50, A=None, gamma=None):\n",
    "    #intialize the convergence boolean\n",
    "    conv_bool = False\n",
    "    old_norm = None\n",
    "    pbar = tqdm(total=maxiter)\n",
    "    for i in range(maxiter):\n",
    "        A_old = A.copy()\n",
    "        #solve the state equations with forward iteration\n",
    "        new_state_equations = partial(state_equations, A=A_old)\n",
    "        state = RK4(new_state_equations,state0,0,t_f,n)\n",
    "        new_costate_equations = partial(costate_equations, state=state, A=A_old, n=n, gamma=gamma)\n",
    "        #solve the costate equations with backwards iteration\n",
    "        costate0 = np.concatenate([-2*gamma*state[-1,:-1],[0]])\n",
    "        costate = RK4(new_costate_equations,costate0,0,t_f,n)[::-1]\n",
    "        #solve for A using the equation derived in pdf (Equation 11)\n",
    "        one = -costate[:,:-1]*R/(2*beta)\n",
    "        a_total = np.asarray([a(eta) for eta in state[:,-1]])\n",
    "        two = Q*S_vec*(1-a_total)\n",
    "        three = -B*state[:,:-1]\n",
    "        four = C*(T_bar(state[:,:-1])-state[:,:-1].T).T\n",
    "        A_star = np.mean((one+two+three+four),axis=1)\n",
    "        A_star = np.minimum(np.maximum(A_min,A_star),A_max)\n",
    "        A = 0.5*(A_star + A_old)\n",
    "        #create the stopping condition\n",
    "        norm_val = np.linalg.norm(A_old-A)\n",
    "        if (norm_val < tol):\n",
    "            conv_bool = True\n",
    "            break     \n",
    "        pbar.set_description('Norm Value: {}'.format(np.round(norm_val,5)))\n",
    "        pbar.update(1)\n",
    "    pbar.close()        \n",
    "    return A, conv_bool, state\n",
    "\n",
    "def plot_results(A, conv_bool, state, t_f, time, index_plot=50, gamma=gamma):\n",
    "    fig,ax = plt.subplots(figsize=(10,7))\n",
    "    ax.plot(time, A)\n",
    "    ax.set_title(\"Control Value of A\",fontsize=16)\n",
    "    ax.set_xlabel(\"Time\", fontsize=16)\n",
    "    ax.set_ylabel(\"A Value\", fontsize=16)\n",
    "    ax.set_ylim([A_min-5,A_max+5])\n",
    "    fig.savefig('../Data/OptimalControl/A_{}_{}_{}_conv{}.png'.format(gamma,beta,t_f,conv_bool))\n",
    "    #plot the eta solution\n",
    "    fig,ax = plt.subplots(figsize=(10,7))\n",
    "    ax.plot(time, state[:,-1])\n",
    "    ax.set_title(\"Eta Value over Time: Gamma = {}, Beta = {}\".format(gamma, beta), fontsize=16)\n",
    "    ax.set_xlabel(\"Time\", fontsize=16)\n",
    "    ax.set_ylabel(\"Eta Value\", fontsize=16)\n",
    "    fig.savefig('../Data/OptimalControl/Eta_{}_{}_{}_conv{}.png'.format(gamma,beta,t_f,conv_bool))\n",
    "    #plot the temperature profile at a certain time\n",
    "    fig,ax = plt.subplots(figsize=(10,7))\n",
    "    ax.plot(y_star, state[-1,:-1])\n",
    "    ax.set_title(\"Temperature Profile at Final Time: Gamma = {}, Beta = {}\".format(gamma, beta), fontsize=16)\n",
    "    ax.set_xlabel(\"Location sin(latitude)\", fontsize=16)\n",
    "    ax.set_ylabel(\"Temperature (C)\", fontsize=16)\n",
    "    fig.savefig('../Data/OptimalControl/Final_{}_{}_{}_conv{}.png'.format(gamma,beta,t_f,conv_bool))\n",
    "    #now animate all the states, first remove some of the states, we do not have to animate every tiny step\n",
    "    print(\"animating results\")\n",
    "    new_state = state[:,:-1]\n",
    "    new_state = new_state[::5].copy()\n",
    "    animate_results(t_f, conv_bool, new_state)\n",
    "    \n",
    "def animate_results(t_f, conv_bool, state, filepath_name=None):    \n",
    "    #animate the temperature solution\n",
    "    plt.ioff()\n",
    "    fig = plt.figure()\n",
    "    ax = fig.add_subplot(111)\n",
    "    traj, = ax.plot([],[], color='b', label='Temperature Profile')\n",
    "    ax.set_xlabel(\"sin(latitude)\", fontsize=16)\n",
    "    ax.set_xlim([-0.1,1.1])\n",
    "    ax.set_ylim([-25,30])\n",
    "    ax.set_ylabel(\"Temperature\", fontsize=16)\n",
    "    ax.set_title(\"Optimal Control Temperature Profile\", fontsize=16)\n",
    "    m,n = np.shape(state)\n",
    "    def mation(i):\n",
    "        traj.set_data(y_star, state[i])\n",
    "        return traj\n",
    "    #create the animation\n",
    "    if filepath_name is None:\n",
    "        filepath_name = '../Data/OptimalControl/Profile_{}_{}_{}_conv{}.mp4'.format(gamma,beta,t_f,conv_bool)\n",
    "    ani = animation.FuncAnimation(fig, mation, frames=range(m), interval=10)\n",
    "    #save the animation\n",
    "    ani.save(filepath_name)\n",
    "    print(\"Saved to {}\".format(filepath_name))\n",
    "    plt.close(fig)\n",
    "    \n",
    "def run_time_test(n_val=500):\n",
    "    t_s = [5,15,30]\n",
    "    A_opt = A_0*np.ones(n_val)\n",
    "    for t_f in t_s:\n",
    "        print(\"Running with final time: {}\".format(t_f))\n",
    "        A_opt, conv_bool, state = continuation(n=n_val, t_f=t_f, A_opt_old=A_opt,\n",
    "                                               gamma_f=1.0, gamma_step=0.05)\n",
    "\n",
    "def continuation(t_f=15, n=2000, gamma_0=0.0, \n",
    "                 gamma_f=2.0, gamma_step=0.1,\n",
    "                 A_opt_old=None):\n",
    "    gamma = gamma_0\n",
    "    time = np.linspace(0,t_f,n)\n",
    "    if (A_opt_old is None):\n",
    "        A_opt_old = A_0*np.ones(n)\n",
    "    while gamma < gamma_f:\n",
    "        solution = run_solution_method(n=n, maxiter=500, t_f=t_f, \n",
    "                                       A=A_opt_old, gamma=gamma)\n",
    "        A_opt_new, conv_bool_new, state_new = solution\n",
    "        #stop if there is a none convergence step\n",
    "        if (conv_bool_new is False):\n",
    "            gamma = np.round(gamma - gamma_step,2)\n",
    "            break\n",
    "        gamma += gamma_step\n",
    "        gamma = np.round(gamma, 2)\n",
    "        A_opt_old, conv_bool_old = A_opt_new, conv_bool_new\n",
    "        state_old = state_new\n",
    "        \n",
    "    plot_results(A_opt_old, conv_bool_old, state_old, t_f, time, gamma=gamma)    \n",
    "    return A_opt_old, conv_bool_old, state_old    "
   ]
  },
  {
   "cell_type": "code",
   "execution_count": 125,
   "metadata": {
    "scrolled": false
   },
   "outputs": [
    {
     "name": "stdout",
     "output_type": "stream",
     "text": [
      "Running with final time: 5\n"
     ]
    },
    {
     "data": {
      "application/vnd.jupyter.widget-view+json": {
       "model_id": "08dc9fffc50f40cca128d1ab4a7ac58c",
       "version_major": 2,
       "version_minor": 0
      },
      "text/plain": [
       "HBox(children=(FloatProgress(value=0.0, max=500.0), HTML(value='')))"
      ]
     },
     "metadata": {},
     "output_type": "display_data"
    },
    {
     "name": "stdout",
     "output_type": "stream",
     "text": [
      "\n"
     ]
    },
    {
     "data": {
      "application/vnd.jupyter.widget-view+json": {
       "model_id": "ea70e9981e484f2e99716f8143b2d32d",
       "version_major": 2,
       "version_minor": 0
      },
      "text/plain": [
       "HBox(children=(FloatProgress(value=0.0, max=500.0), HTML(value='')))"
      ]
     },
     "metadata": {},
     "output_type": "display_data"
    },
    {
     "name": "stdout",
     "output_type": "stream",
     "text": [
      "\n"
     ]
    },
    {
     "data": {
      "application/vnd.jupyter.widget-view+json": {
       "model_id": "1f0eaeaa4ecc4392a27abfc1513ec05a",
       "version_major": 2,
       "version_minor": 0
      },
      "text/plain": [
       "HBox(children=(FloatProgress(value=0.0, max=500.0), HTML(value='')))"
      ]
     },
     "metadata": {},
     "output_type": "display_data"
    },
    {
     "name": "stdout",
     "output_type": "stream",
     "text": [
      "\n"
     ]
    },
    {
     "data": {
      "application/vnd.jupyter.widget-view+json": {
       "model_id": "67692464d6a4425ca5ca7c9d5d3b6e05",
       "version_major": 2,
       "version_minor": 0
      },
      "text/plain": [
       "HBox(children=(FloatProgress(value=0.0, max=500.0), HTML(value='')))"
      ]
     },
     "metadata": {},
     "output_type": "display_data"
    },
    {
     "name": "stdout",
     "output_type": "stream",
     "text": [
      "\n"
     ]
    },
    {
     "data": {
      "application/vnd.jupyter.widget-view+json": {
       "model_id": "753958caadb34f6897e995248bed98b8",
       "version_major": 2,
       "version_minor": 0
      },
      "text/plain": [
       "HBox(children=(FloatProgress(value=0.0, max=500.0), HTML(value='')))"
      ]
     },
     "metadata": {},
     "output_type": "display_data"
    },
    {
     "name": "stdout",
     "output_type": "stream",
     "text": [
      "\n"
     ]
    },
    {
     "data": {
      "application/vnd.jupyter.widget-view+json": {
       "model_id": "5d821b680244456f9cec3e0e686f6e6d",
       "version_major": 2,
       "version_minor": 0
      },
      "text/plain": [
       "HBox(children=(FloatProgress(value=0.0, max=500.0), HTML(value='')))"
      ]
     },
     "metadata": {},
     "output_type": "display_data"
    },
    {
     "name": "stdout",
     "output_type": "stream",
     "text": [
      "\n"
     ]
    },
    {
     "data": {
      "application/vnd.jupyter.widget-view+json": {
       "model_id": "ead29ca2a8fd4f4d9cd5ab439f58c1af",
       "version_major": 2,
       "version_minor": 0
      },
      "text/plain": [
       "HBox(children=(FloatProgress(value=0.0, max=500.0), HTML(value='')))"
      ]
     },
     "metadata": {},
     "output_type": "display_data"
    },
    {
     "name": "stdout",
     "output_type": "stream",
     "text": [
      "\n"
     ]
    },
    {
     "data": {
      "application/vnd.jupyter.widget-view+json": {
       "model_id": "7a5be6edc49c474cb5810f5610be8045",
       "version_major": 2,
       "version_minor": 0
      },
      "text/plain": [
       "HBox(children=(FloatProgress(value=0.0, max=500.0), HTML(value='')))"
      ]
     },
     "metadata": {},
     "output_type": "display_data"
    },
    {
     "name": "stdout",
     "output_type": "stream",
     "text": [
      "\n"
     ]
    },
    {
     "data": {
      "application/vnd.jupyter.widget-view+json": {
       "model_id": "4d4d49d751d34a7ca01f0b591442d919",
       "version_major": 2,
       "version_minor": 0
      },
      "text/plain": [
       "HBox(children=(FloatProgress(value=0.0, max=500.0), HTML(value='')))"
      ]
     },
     "metadata": {},
     "output_type": "display_data"
    },
    {
     "name": "stdout",
     "output_type": "stream",
     "text": [
      "\n"
     ]
    },
    {
     "data": {
      "application/vnd.jupyter.widget-view+json": {
       "model_id": "eb28e3554a6f4a69a1523d56f5bce4a6",
       "version_major": 2,
       "version_minor": 0
      },
      "text/plain": [
       "HBox(children=(FloatProgress(value=0.0, max=500.0), HTML(value='')))"
      ]
     },
     "metadata": {},
     "output_type": "display_data"
    },
    {
     "name": "stdout",
     "output_type": "stream",
     "text": [
      "\n"
     ]
    },
    {
     "data": {
      "application/vnd.jupyter.widget-view+json": {
       "model_id": "4a54d4190fbc446797e05126101dd9f5",
       "version_major": 2,
       "version_minor": 0
      },
      "text/plain": [
       "HBox(children=(FloatProgress(value=0.0, max=500.0), HTML(value='')))"
      ]
     },
     "metadata": {},
     "output_type": "display_data"
    },
    {
     "name": "stdout",
     "output_type": "stream",
     "text": [
      "\n"
     ]
    },
    {
     "data": {
      "application/vnd.jupyter.widget-view+json": {
       "model_id": "160d46e633ab4708bbbd6b5b0aba39f9",
       "version_major": 2,
       "version_minor": 0
      },
      "text/plain": [
       "HBox(children=(FloatProgress(value=0.0, max=500.0), HTML(value='')))"
      ]
     },
     "metadata": {},
     "output_type": "display_data"
    },
    {
     "name": "stdout",
     "output_type": "stream",
     "text": [
      "\n"
     ]
    },
    {
     "data": {
      "application/vnd.jupyter.widget-view+json": {
       "model_id": "1d72af799c994f9c9b8bda298a496946",
       "version_major": 2,
       "version_minor": 0
      },
      "text/plain": [
       "HBox(children=(FloatProgress(value=0.0, max=500.0), HTML(value='')))"
      ]
     },
     "metadata": {},
     "output_type": "display_data"
    },
    {
     "name": "stdout",
     "output_type": "stream",
     "text": [
      "\n"
     ]
    },
    {
     "data": {
      "application/vnd.jupyter.widget-view+json": {
       "model_id": "6486dc5df97a4b6cbf8895067483c54a",
       "version_major": 2,
       "version_minor": 0
      },
      "text/plain": [
       "HBox(children=(FloatProgress(value=0.0, max=500.0), HTML(value='')))"
      ]
     },
     "metadata": {},
     "output_type": "display_data"
    },
    {
     "name": "stdout",
     "output_type": "stream",
     "text": [
      "\n"
     ]
    },
    {
     "data": {
      "application/vnd.jupyter.widget-view+json": {
       "model_id": "77d441d8d5904bd2a9dda5ee0aa18752",
       "version_major": 2,
       "version_minor": 0
      },
      "text/plain": [
       "HBox(children=(FloatProgress(value=0.0, max=500.0), HTML(value='')))"
      ]
     },
     "metadata": {},
     "output_type": "display_data"
    },
    {
     "name": "stdout",
     "output_type": "stream",
     "text": [
      "\n"
     ]
    },
    {
     "data": {
      "application/vnd.jupyter.widget-view+json": {
       "model_id": "6e17d7908396438daeb68e9102bb20cb",
       "version_major": 2,
       "version_minor": 0
      },
      "text/plain": [
       "HBox(children=(FloatProgress(value=0.0, max=500.0), HTML(value='')))"
      ]
     },
     "metadata": {},
     "output_type": "display_data"
    },
    {
     "name": "stdout",
     "output_type": "stream",
     "text": [
      "\n"
     ]
    },
    {
     "data": {
      "application/vnd.jupyter.widget-view+json": {
       "model_id": "527134153b544f4eb9a543db8f2c3abc",
       "version_major": 2,
       "version_minor": 0
      },
      "text/plain": [
       "HBox(children=(FloatProgress(value=0.0, max=500.0), HTML(value='')))"
      ]
     },
     "metadata": {},
     "output_type": "display_data"
    },
    {
     "name": "stdout",
     "output_type": "stream",
     "text": [
      "\n"
     ]
    },
    {
     "data": {
      "application/vnd.jupyter.widget-view+json": {
       "model_id": "adf5ecc6d3a54362b22cbf4d1a3f2aa0",
       "version_major": 2,
       "version_minor": 0
      },
      "text/plain": [
       "HBox(children=(FloatProgress(value=0.0, max=500.0), HTML(value='')))"
      ]
     },
     "metadata": {},
     "output_type": "display_data"
    },
    {
     "name": "stdout",
     "output_type": "stream",
     "text": [
      "\n"
     ]
    },
    {
     "data": {
      "application/vnd.jupyter.widget-view+json": {
       "model_id": "f6827fda7a0a404a8451c736a05089bc",
       "version_major": 2,
       "version_minor": 0
      },
      "text/plain": [
       "HBox(children=(FloatProgress(value=0.0, max=500.0), HTML(value='')))"
      ]
     },
     "metadata": {},
     "output_type": "display_data"
    },
    {
     "name": "stdout",
     "output_type": "stream",
     "text": [
      "\n"
     ]
    },
    {
     "data": {
      "application/vnd.jupyter.widget-view+json": {
       "model_id": "7bc0caafd538428f977667d3d3afca7b",
       "version_major": 2,
       "version_minor": 0
      },
      "text/plain": [
       "HBox(children=(FloatProgress(value=0.0, max=500.0), HTML(value='')))"
      ]
     },
     "metadata": {},
     "output_type": "display_data"
    },
    {
     "name": "stdout",
     "output_type": "stream",
     "text": [
      "\n",
      "animating results\n",
      "Saved to ../Data/OptimalControl/Profile_0.1_1.0_5_convTrue.mp4\n",
      "Running with final time: 15\n"
     ]
    },
    {
     "data": {
      "application/vnd.jupyter.widget-view+json": {
       "model_id": "321ed4d2baaf426b9d5e092b0d8d1076",
       "version_major": 2,
       "version_minor": 0
      },
      "text/plain": [
       "HBox(children=(FloatProgress(value=0.0, max=500.0), HTML(value='')))"
      ]
     },
     "metadata": {},
     "output_type": "display_data"
    },
    {
     "name": "stdout",
     "output_type": "stream",
     "text": [
      "\n"
     ]
    },
    {
     "data": {
      "application/vnd.jupyter.widget-view+json": {
       "model_id": "4e9f8b6ab2b642ba9ded23a54957a308",
       "version_major": 2,
       "version_minor": 0
      },
      "text/plain": [
       "HBox(children=(FloatProgress(value=0.0, max=500.0), HTML(value='')))"
      ]
     },
     "metadata": {},
     "output_type": "display_data"
    },
    {
     "name": "stdout",
     "output_type": "stream",
     "text": [
      "\n"
     ]
    },
    {
     "data": {
      "application/vnd.jupyter.widget-view+json": {
       "model_id": "355d3aa44e66420897e5e5969ac2e669",
       "version_major": 2,
       "version_minor": 0
      },
      "text/plain": [
       "HBox(children=(FloatProgress(value=0.0, max=500.0), HTML(value='')))"
      ]
     },
     "metadata": {},
     "output_type": "display_data"
    },
    {
     "name": "stdout",
     "output_type": "stream",
     "text": [
      "\n"
     ]
    },
    {
     "data": {
      "application/vnd.jupyter.widget-view+json": {
       "model_id": "c1fab1e8049e4a2ba3cfbb6050db27ac",
       "version_major": 2,
       "version_minor": 0
      },
      "text/plain": [
       "HBox(children=(FloatProgress(value=0.0, max=500.0), HTML(value='')))"
      ]
     },
     "metadata": {},
     "output_type": "display_data"
    },
    {
     "name": "stdout",
     "output_type": "stream",
     "text": [
      "\n"
     ]
    },
    {
     "data": {
      "application/vnd.jupyter.widget-view+json": {
       "model_id": "daf374b7708b43ff982db8e59139cec5",
       "version_major": 2,
       "version_minor": 0
      },
      "text/plain": [
       "HBox(children=(FloatProgress(value=0.0, max=500.0), HTML(value='')))"
      ]
     },
     "metadata": {},
     "output_type": "display_data"
    },
    {
     "name": "stdout",
     "output_type": "stream",
     "text": [
      "\n"
     ]
    },
    {
     "data": {
      "application/vnd.jupyter.widget-view+json": {
       "model_id": "d3a3820d71d54d5d81bfd3dc71ecdb37",
       "version_major": 2,
       "version_minor": 0
      },
      "text/plain": [
       "HBox(children=(FloatProgress(value=0.0, max=500.0), HTML(value='')))"
      ]
     },
     "metadata": {},
     "output_type": "display_data"
    },
    {
     "name": "stdout",
     "output_type": "stream",
     "text": [
      "\n"
     ]
    },
    {
     "data": {
      "application/vnd.jupyter.widget-view+json": {
       "model_id": "e1e418e6766b4097a0a2027a143e7a1c",
       "version_major": 2,
       "version_minor": 0
      },
      "text/plain": [
       "HBox(children=(FloatProgress(value=0.0, max=500.0), HTML(value='')))"
      ]
     },
     "metadata": {},
     "output_type": "display_data"
    },
    {
     "name": "stdout",
     "output_type": "stream",
     "text": [
      "\n"
     ]
    },
    {
     "data": {
      "application/vnd.jupyter.widget-view+json": {
       "model_id": "1e62f1db98a547e5b0f27f1b9423c184",
       "version_major": 2,
       "version_minor": 0
      },
      "text/plain": [
       "HBox(children=(FloatProgress(value=0.0, max=500.0), HTML(value='')))"
      ]
     },
     "metadata": {},
     "output_type": "display_data"
    },
    {
     "name": "stdout",
     "output_type": "stream",
     "text": [
      "\n"
     ]
    },
    {
     "data": {
      "application/vnd.jupyter.widget-view+json": {
       "model_id": "1f7797146d364218b53f48a42d8f44fe",
       "version_major": 2,
       "version_minor": 0
      },
      "text/plain": [
       "HBox(children=(FloatProgress(value=0.0, max=500.0), HTML(value='')))"
      ]
     },
     "metadata": {},
     "output_type": "display_data"
    },
    {
     "name": "stdout",
     "output_type": "stream",
     "text": [
      "\n"
     ]
    },
    {
     "data": {
      "application/vnd.jupyter.widget-view+json": {
       "model_id": "5888997101b048a5ac09a1432fa5c133",
       "version_major": 2,
       "version_minor": 0
      },
      "text/plain": [
       "HBox(children=(FloatProgress(value=0.0, max=500.0), HTML(value='')))"
      ]
     },
     "metadata": {},
     "output_type": "display_data"
    },
    {
     "name": "stdout",
     "output_type": "stream",
     "text": [
      "\n"
     ]
    },
    {
     "data": {
      "application/vnd.jupyter.widget-view+json": {
       "model_id": "2c0556403f524dab9420c223971fa29d",
       "version_major": 2,
       "version_minor": 0
      },
      "text/plain": [
       "HBox(children=(FloatProgress(value=0.0, max=500.0), HTML(value='')))"
      ]
     },
     "metadata": {},
     "output_type": "display_data"
    },
    {
     "name": "stdout",
     "output_type": "stream",
     "text": [
      "\n"
     ]
    },
    {
     "data": {
      "application/vnd.jupyter.widget-view+json": {
       "model_id": "a7b15b3e18bb407daaf14999bb7ca38b",
       "version_major": 2,
       "version_minor": 0
      },
      "text/plain": [
       "HBox(children=(FloatProgress(value=0.0, max=500.0), HTML(value='')))"
      ]
     },
     "metadata": {},
     "output_type": "display_data"
    },
    {
     "name": "stdout",
     "output_type": "stream",
     "text": [
      "\n"
     ]
    },
    {
     "data": {
      "application/vnd.jupyter.widget-view+json": {
       "model_id": "0439a13304f24db9b75972e7efe1ef2a",
       "version_major": 2,
       "version_minor": 0
      },
      "text/plain": [
       "HBox(children=(FloatProgress(value=0.0, max=500.0), HTML(value='')))"
      ]
     },
     "metadata": {},
     "output_type": "display_data"
    },
    {
     "name": "stdout",
     "output_type": "stream",
     "text": [
      "\n"
     ]
    },
    {
     "data": {
      "application/vnd.jupyter.widget-view+json": {
       "model_id": "2875eb3a691846e3a8072750b4b588eb",
       "version_major": 2,
       "version_minor": 0
      },
      "text/plain": [
       "HBox(children=(FloatProgress(value=0.0, max=500.0), HTML(value='')))"
      ]
     },
     "metadata": {},
     "output_type": "display_data"
    },
    {
     "name": "stdout",
     "output_type": "stream",
     "text": [
      "\n"
     ]
    },
    {
     "data": {
      "application/vnd.jupyter.widget-view+json": {
       "model_id": "9792516a465b44b3ace7e5f362ff9370",
       "version_major": 2,
       "version_minor": 0
      },
      "text/plain": [
       "HBox(children=(FloatProgress(value=0.0, max=500.0), HTML(value='')))"
      ]
     },
     "metadata": {},
     "output_type": "display_data"
    },
    {
     "name": "stdout",
     "output_type": "stream",
     "text": [
      "\n"
     ]
    },
    {
     "data": {
      "application/vnd.jupyter.widget-view+json": {
       "model_id": "b2cb538a5bb543e6968d15b2e83adea1",
       "version_major": 2,
       "version_minor": 0
      },
      "text/plain": [
       "HBox(children=(FloatProgress(value=0.0, max=500.0), HTML(value='')))"
      ]
     },
     "metadata": {},
     "output_type": "display_data"
    },
    {
     "name": "stdout",
     "output_type": "stream",
     "text": [
      "\n"
     ]
    },
    {
     "data": {
      "application/vnd.jupyter.widget-view+json": {
       "model_id": "ad0a95e151374679a36d80c1b57a5192",
       "version_major": 2,
       "version_minor": 0
      },
      "text/plain": [
       "HBox(children=(FloatProgress(value=0.0, max=500.0), HTML(value='')))"
      ]
     },
     "metadata": {},
     "output_type": "display_data"
    },
    {
     "name": "stdout",
     "output_type": "stream",
     "text": [
      "\n"
     ]
    },
    {
     "data": {
      "application/vnd.jupyter.widget-view+json": {
       "model_id": "5ce86c39a072475694d51c21b7c29f5b",
       "version_major": 2,
       "version_minor": 0
      },
      "text/plain": [
       "HBox(children=(FloatProgress(value=0.0, max=500.0), HTML(value='')))"
      ]
     },
     "metadata": {},
     "output_type": "display_data"
    },
    {
     "name": "stdout",
     "output_type": "stream",
     "text": [
      "\n"
     ]
    },
    {
     "data": {
      "application/vnd.jupyter.widget-view+json": {
       "model_id": "a799d09b53e74db590ba5dc92dbea6b9",
       "version_major": 2,
       "version_minor": 0
      },
      "text/plain": [
       "HBox(children=(FloatProgress(value=0.0, max=500.0), HTML(value='')))"
      ]
     },
     "metadata": {},
     "output_type": "display_data"
    },
    {
     "name": "stdout",
     "output_type": "stream",
     "text": [
      "\n"
     ]
    },
    {
     "data": {
      "application/vnd.jupyter.widget-view+json": {
       "model_id": "20324354564a4c1b8b7bfc0578e33853",
       "version_major": 2,
       "version_minor": 0
      },
      "text/plain": [
       "HBox(children=(FloatProgress(value=0.0, max=500.0), HTML(value='')))"
      ]
     },
     "metadata": {},
     "output_type": "display_data"
    },
    {
     "name": "stdout",
     "output_type": "stream",
     "text": [
      "\n",
      "animating results\n",
      "Saved to ../Data/OptimalControl/Profile_0.1_1.0_15_convTrue.mp4\n",
      "Running with final time: 30\n"
     ]
    },
    {
     "data": {
      "application/vnd.jupyter.widget-view+json": {
       "model_id": "b2accad54c2c4795be4176096ef4ef8a",
       "version_major": 2,
       "version_minor": 0
      },
      "text/plain": [
       "HBox(children=(FloatProgress(value=0.0, max=500.0), HTML(value='')))"
      ]
     },
     "metadata": {},
     "output_type": "display_data"
    },
    {
     "name": "stdout",
     "output_type": "stream",
     "text": [
      "\n"
     ]
    },
    {
     "data": {
      "application/vnd.jupyter.widget-view+json": {
       "model_id": "caa9e93ce5a1455a9be51dae7ebc4f63",
       "version_major": 2,
       "version_minor": 0
      },
      "text/plain": [
       "HBox(children=(FloatProgress(value=0.0, max=500.0), HTML(value='')))"
      ]
     },
     "metadata": {},
     "output_type": "display_data"
    },
    {
     "name": "stdout",
     "output_type": "stream",
     "text": [
      "\n"
     ]
    },
    {
     "data": {
      "application/vnd.jupyter.widget-view+json": {
       "model_id": "f6222404d3d74cf1b75f750b15d797e6",
       "version_major": 2,
       "version_minor": 0
      },
      "text/plain": [
       "HBox(children=(FloatProgress(value=0.0, max=500.0), HTML(value='')))"
      ]
     },
     "metadata": {},
     "output_type": "display_data"
    },
    {
     "name": "stdout",
     "output_type": "stream",
     "text": [
      "\n"
     ]
    },
    {
     "data": {
      "application/vnd.jupyter.widget-view+json": {
       "model_id": "dc6fdd7a63d34061b769af4fb8976867",
       "version_major": 2,
       "version_minor": 0
      },
      "text/plain": [
       "HBox(children=(FloatProgress(value=0.0, max=500.0), HTML(value='')))"
      ]
     },
     "metadata": {},
     "output_type": "display_data"
    },
    {
     "name": "stdout",
     "output_type": "stream",
     "text": [
      "\n"
     ]
    },
    {
     "data": {
      "application/vnd.jupyter.widget-view+json": {
       "model_id": "ea78943fdca44446a3bc78983fb7fec9",
       "version_major": 2,
       "version_minor": 0
      },
      "text/plain": [
       "HBox(children=(FloatProgress(value=0.0, max=500.0), HTML(value='')))"
      ]
     },
     "metadata": {},
     "output_type": "display_data"
    },
    {
     "name": "stdout",
     "output_type": "stream",
     "text": [
      "\n"
     ]
    },
    {
     "data": {
      "application/vnd.jupyter.widget-view+json": {
       "model_id": "e3d128b6be154b11935130f456eb74c4",
       "version_major": 2,
       "version_minor": 0
      },
      "text/plain": [
       "HBox(children=(FloatProgress(value=0.0, max=500.0), HTML(value='')))"
      ]
     },
     "metadata": {},
     "output_type": "display_data"
    },
    {
     "name": "stdout",
     "output_type": "stream",
     "text": [
      "\n"
     ]
    },
    {
     "data": {
      "application/vnd.jupyter.widget-view+json": {
       "model_id": "f10b8448326242e09baa72e027476b25",
       "version_major": 2,
       "version_minor": 0
      },
      "text/plain": [
       "HBox(children=(FloatProgress(value=0.0, max=500.0), HTML(value='')))"
      ]
     },
     "metadata": {},
     "output_type": "display_data"
    },
    {
     "name": "stdout",
     "output_type": "stream",
     "text": [
      "\n"
     ]
    },
    {
     "data": {
      "application/vnd.jupyter.widget-view+json": {
       "model_id": "9acbe15cc5b345e99f095eb554ce79ef",
       "version_major": 2,
       "version_minor": 0
      },
      "text/plain": [
       "HBox(children=(FloatProgress(value=0.0, max=500.0), HTML(value='')))"
      ]
     },
     "metadata": {},
     "output_type": "display_data"
    },
    {
     "name": "stdout",
     "output_type": "stream",
     "text": [
      "\n"
     ]
    },
    {
     "data": {
      "application/vnd.jupyter.widget-view+json": {
       "model_id": "70759760e45d450a80b4ec39e257fd6e",
       "version_major": 2,
       "version_minor": 0
      },
      "text/plain": [
       "HBox(children=(FloatProgress(value=0.0, max=500.0), HTML(value='')))"
      ]
     },
     "metadata": {},
     "output_type": "display_data"
    },
    {
     "name": "stdout",
     "output_type": "stream",
     "text": [
      "\n"
     ]
    },
    {
     "data": {
      "application/vnd.jupyter.widget-view+json": {
       "model_id": "f60b8fbdc25e44c9b9922ea10b4fddfb",
       "version_major": 2,
       "version_minor": 0
      },
      "text/plain": [
       "HBox(children=(FloatProgress(value=0.0, max=500.0), HTML(value='')))"
      ]
     },
     "metadata": {},
     "output_type": "display_data"
    },
    {
     "name": "stdout",
     "output_type": "stream",
     "text": [
      "\n"
     ]
    },
    {
     "data": {
      "application/vnd.jupyter.widget-view+json": {
       "model_id": "573afb6a2f204005bf249dcf5e99833e",
       "version_major": 2,
       "version_minor": 0
      },
      "text/plain": [
       "HBox(children=(FloatProgress(value=0.0, max=500.0), HTML(value='')))"
      ]
     },
     "metadata": {},
     "output_type": "display_data"
    },
    {
     "name": "stdout",
     "output_type": "stream",
     "text": [
      "\n"
     ]
    },
    {
     "data": {
      "application/vnd.jupyter.widget-view+json": {
       "model_id": "c6e3babdec4d40c0940b42e0a9f46a30",
       "version_major": 2,
       "version_minor": 0
      },
      "text/plain": [
       "HBox(children=(FloatProgress(value=0.0, max=500.0), HTML(value='')))"
      ]
     },
     "metadata": {},
     "output_type": "display_data"
    },
    {
     "name": "stdout",
     "output_type": "stream",
     "text": [
      "\n"
     ]
    },
    {
     "data": {
      "application/vnd.jupyter.widget-view+json": {
       "model_id": "cbd77f3f81964362bc4adf429bde602b",
       "version_major": 2,
       "version_minor": 0
      },
      "text/plain": [
       "HBox(children=(FloatProgress(value=0.0, max=500.0), HTML(value='')))"
      ]
     },
     "metadata": {},
     "output_type": "display_data"
    },
    {
     "name": "stdout",
     "output_type": "stream",
     "text": [
      "\n"
     ]
    },
    {
     "data": {
      "application/vnd.jupyter.widget-view+json": {
       "model_id": "bb26a8bb189f4707aec6177ceac8a556",
       "version_major": 2,
       "version_minor": 0
      },
      "text/plain": [
       "HBox(children=(FloatProgress(value=0.0, max=500.0), HTML(value='')))"
      ]
     },
     "metadata": {},
     "output_type": "display_data"
    },
    {
     "name": "stdout",
     "output_type": "stream",
     "text": [
      "\n"
     ]
    },
    {
     "data": {
      "application/vnd.jupyter.widget-view+json": {
       "model_id": "e50b13ad27c947a7b3c64bce66925895",
       "version_major": 2,
       "version_minor": 0
      },
      "text/plain": [
       "HBox(children=(FloatProgress(value=0.0, max=500.0), HTML(value='')))"
      ]
     },
     "metadata": {},
     "output_type": "display_data"
    },
    {
     "name": "stdout",
     "output_type": "stream",
     "text": [
      "\n"
     ]
    },
    {
     "data": {
      "application/vnd.jupyter.widget-view+json": {
       "model_id": "e24787a490934dec92cf63b323beeb6f",
       "version_major": 2,
       "version_minor": 0
      },
      "text/plain": [
       "HBox(children=(FloatProgress(value=0.0, max=500.0), HTML(value='')))"
      ]
     },
     "metadata": {},
     "output_type": "display_data"
    },
    {
     "name": "stdout",
     "output_type": "stream",
     "text": [
      "\n"
     ]
    },
    {
     "data": {
      "application/vnd.jupyter.widget-view+json": {
       "model_id": "df783690eec247278a9cd6787cfe2788",
       "version_major": 2,
       "version_minor": 0
      },
      "text/plain": [
       "HBox(children=(FloatProgress(value=0.0, max=500.0), HTML(value='')))"
      ]
     },
     "metadata": {},
     "output_type": "display_data"
    },
    {
     "name": "stdout",
     "output_type": "stream",
     "text": [
      "\n"
     ]
    },
    {
     "data": {
      "application/vnd.jupyter.widget-view+json": {
       "model_id": "2b78dc96b1be4bba8d4b2704782898ee",
       "version_major": 2,
       "version_minor": 0
      },
      "text/plain": [
       "HBox(children=(FloatProgress(value=0.0, max=500.0), HTML(value='')))"
      ]
     },
     "metadata": {},
     "output_type": "display_data"
    },
    {
     "name": "stdout",
     "output_type": "stream",
     "text": [
      "\n"
     ]
    },
    {
     "data": {
      "application/vnd.jupyter.widget-view+json": {
       "model_id": "939077d8a6a24b8bab35a5e12a6d5694",
       "version_major": 2,
       "version_minor": 0
      },
      "text/plain": [
       "HBox(children=(FloatProgress(value=0.0, max=500.0), HTML(value='')))"
      ]
     },
     "metadata": {},
     "output_type": "display_data"
    },
    {
     "name": "stdout",
     "output_type": "stream",
     "text": [
      "\n"
     ]
    },
    {
     "data": {
      "application/vnd.jupyter.widget-view+json": {
       "model_id": "ee83384ea3fc4eccac47b08a40b417d1",
       "version_major": 2,
       "version_minor": 0
      },
      "text/plain": [
       "HBox(children=(FloatProgress(value=0.0, max=500.0), HTML(value='')))"
      ]
     },
     "metadata": {},
     "output_type": "display_data"
    },
    {
     "name": "stdout",
     "output_type": "stream",
     "text": [
      "\n",
      "animating results\n",
      "Saved to ../Data/OptimalControl/Profile_0.1_1.0_30_convTrue.mp4\n"
     ]
    },
    {
     "data": {
      "image/png": "[encoded data removed]",
      "text/plain": [
       "<Figure size 720x504 with 1 Axes>"
      ]
     },
     "metadata": {
      "needs_background": "light"
     },
     "output_type": "display_data"
    },
    {
     "data": {
      "image/png": "[encoded data removed]",
      "text/plain": [
       "<Figure size 720x504 with 1 Axes>"
      ]
     },
     "metadata": {
      "needs_background": "light"
     },
     "output_type": "display_data"
    },
    {
     "data": {
      "image/png": "[encoded data removed]",
      "text/plain": [
       "<Figure size 720x504 with 1 Axes>"
      ]
     },
     "metadata": {
      "needs_background": "light"
     },
     "output_type": "display_data"
    },
    {
     "data": {
      "image/png": "[encoded data removed]",
      "text/plain": [
       "<Figure size 720x504 with 1 Axes>"
      ]
     },
     "metadata": {
      "needs_background": "light"
     },
     "output_type": "display_data"
    },
    {
     "data": {
      "image/png": "[encoded data removed]",
      "text/plain": [
       "<Figure size 720x504 with 1 Axes>"
      ]
     },
     "metadata": {
      "needs_background": "light"
     },
     "output_type": "display_data"
    },
    {
     "data": {
      "image/png": "[encoded data removed]",
      "text/plain": [
       "<Figure size 720x504 with 1 Axes>"
      ]
     },
     "metadata": {
      "needs_background": "light"
     },
     "output_type": "display_data"
    },
    {
     "data": {
      "image/png": "[encoded data removed]",
      "text/plain": [
       "<Figure size 720x504 with 1 Axes>"
      ]
     },
     "metadata": {
      "needs_background": "light"
     },
     "output_type": "display_data"
    },
    {
     "data": {
      "image/png": "[encoded data removed]",
      "text/plain": [
       "<Figure size 720x504 with 1 Axes>"
      ]
     },
     "metadata": {
      "needs_background": "light"
     },
     "output_type": "display_data"
    },
    {
     "data": {
      "image/png": "[encoded data removed]",
      "text/plain": [
       "<Figure size 720x504 with 1 Axes>"
      ]
     },
     "metadata": {
      "needs_background": "light"
     },
     "output_type": "display_data"
    }
   ],
   "source": [
    "run_time_test()"
   ]
  },
  {
   "cell_type": "code",
   "execution_count": null,
   "metadata": {},
   "outputs": [],
   "source": []
  }
 ],
 "metadata": {
  "kernelspec": {
   "display_name": "Python 3",
   "language": "python",
   "name": "python3"
  },
  "language_info": {
   "codemirror_mode": {
    "name": "ipython",
    "version": 3
   },
   "file_extension": ".py",
   "mimetype": "text/x-python",
   "name": "python",
   "nbconvert_exporter": "python",
   "pygments_lexer": "ipython3",
   "version": "3.8.3"
  }
 },
 "nbformat": 4,
 "nbformat_minor": 4
}
